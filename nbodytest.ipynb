{
 "cells": [
  {
   "cell_type": "markdown",
   "id": "bc1c8d81",
   "metadata": {},
   "source": [
    "# Testing notebook\n",
    "\n",
    "This notebook is just used for testing changes and verifying that the class works. This isn't intended to be part of the project."
   ]
  },
  {
   "cell_type": "code",
   "execution_count": null,
   "id": "8a261549",
   "metadata": {},
   "outputs": [],
   "source": [
    "from NBodyHandler import *\n",
    "import matplotlib.pyplot as plt\n",
    "import matplotlib.animation\n",
    "\n",
    "%matplotlib ipympl"
   ]
  },
  {
   "cell_type": "code",
   "execution_count": null,
   "id": "dcbcffb7",
   "metadata": {},
   "outputs": [],
   "source": [
    "mass_array = [1, 1, 1, 1]\n",
    "pos_array = [\n",
    "    [1,1],\n",
    "    [-1,-1],\n",
    "    [2,-2],\n",
    "    [-1, 2]\n",
    "]\n",
    "vel_array = [\n",
    "    [1,-1],\n",
    "    [-1,1],\n",
    "    [1,-1],\n",
    "    [2, 1]\n",
    "]\n",
    "vel_array = 0.1*np.array(vel_array)\n",
    "nbody = NBodyHandler(mass_array, pos_array, vel_array, epsilon=0.01)\n",
    "\n",
    "t_eval = np.arange(0,30,0.001)\n",
    "t, vec  = nbody.solve(t_eval, \"Leapfrog4\")"
   ]
  },
  {
   "cell_type": "code",
   "execution_count": null,
   "id": "450ff351",
   "metadata": {},
   "outputs": [],
   "source": [
    "fig, ax = plt.subplots()\n",
    "\n",
    "ax.set_xlim(-4, 4)\n",
    "ax.set_ylim(-4, 4)\n",
    "\n",
    "points_arr = []\n",
    "for idx in range(0, len(mass_array)):\n",
    "    point = ax.plot(vec[2*idx,0], vec[2*idx+1,0],'-', label=rf\"$m_{idx} = {mass_array[idx]}$\")[0]\n",
    "    points_arr.append(point)\n",
    "\n",
    "ax.legend(loc=\"upper left\")\n",
    "\n",
    "#make the animation\n",
    "def update(frame):\n",
    "    for idx in range(0, len(mass_array)):\n",
    "        points_arr[idx].set_xdata(vec[2*idx, :frame])\n",
    "        points_arr[idx].set_ydata(vec[2*idx+1, :frame])\n",
    "    \n",
    "    return points_arr\n",
    "\n",
    "ani = matplotlib.animation.FuncAnimation(fig=fig, func=update, frames=len(t_eval), interval=1, repeat=True)\n",
    "plt.show()"
   ]
  },
  {
   "cell_type": "code",
   "execution_count": null,
   "id": "c7c2f0b8",
   "metadata": {},
   "outputs": [],
   "source": [
    "fig, ax = plt.subplots()\n",
    "\n",
    "P_mag = np.sqrt(nbody.P[0]**2 + nbody.P[1]**2)\n",
    "\n",
    "ax.plot(t_eval, nbody.H, label=\"H\")\n",
    "ax.plot(t_eval, P_mag, label=\"P\")\n",
    "ax.plot(t_eval, nbody.L, label=\"L\")\n",
    "\n",
    "ax.legend()"
   ]
  },
  {
   "cell_type": "code",
   "execution_count": null,
   "id": "2b57212f",
   "metadata": {},
   "outputs": [],
   "source": []
  }
 ],
 "metadata": {
  "kernelspec": {
   "display_name": ".venv (3.13.2)",
   "language": "python",
   "name": "python3"
  },
  "language_info": {
   "codemirror_mode": {
    "name": "ipython",
    "version": 3
   },
   "file_extension": ".py",
   "mimetype": "text/x-python",
   "name": "python",
   "nbconvert_exporter": "python",
   "pygments_lexer": "ipython3",
   "version": "3.13.2"
  }
 },
 "nbformat": 4,
 "nbformat_minor": 5
}
